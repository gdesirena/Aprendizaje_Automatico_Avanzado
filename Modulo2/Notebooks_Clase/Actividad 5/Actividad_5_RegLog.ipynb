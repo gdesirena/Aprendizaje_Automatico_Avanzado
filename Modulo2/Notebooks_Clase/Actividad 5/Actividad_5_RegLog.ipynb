{
 "cells": [
  {
   "cell_type": "markdown",
   "metadata": {},
   "source": [
    "<img style=\"float: left;;\" src='Figures/alinco.png' /></a>\n",
    "\n",
    "# <center> <font color= #000047> Actividad 5: Aprendizaje Supervizado Reg. Logísitca\n",
    "    \n",
    "___"
   ]
  },
  {
   "cell_type": "markdown",
   "metadata": {},
   "source": [
    "<h1> Nombre: </h1>\n",
    "<hr>   "
   ]
  },
  {
   "cell_type": "markdown",
   "metadata": {},
   "source": [
    "Considere el dataset \"Social_Network_Ads.csv\", realice lo siguiente:\n",
    "\n",
    "\n",
    "> Estandrizar los datos. Estandarizar los datos (StandardScaler) x_std = (x - x.mean())/x.std().\n",
    "\n",
    "> Utilizando las librerías de sklearn, encontrar un modelo de reg. logística (X, Xa)\n",
    "\n",
    "> El modelo encontrado tenga un accuracy mayor al 85%\n",
    "\n",
    "> Predecir datos nuevos (clientes nuevos) C_new =[35, 58000].\n",
    "\n",
    "> Elegir tres variable y graficar la clasificación."
   ]
  },
  {
   "cell_type": "markdown",
   "metadata": {},
   "source": [
    "\n",
    "<div class=\"alert alert-danger\" style=\"margin: 10px\"><strong>NOTA:</strong> Todas las figuras deben de estar comentadas o descritas.</div>\n"
   ]
  }
 ],
 "metadata": {
  "kernelspec": {
   "display_name": "Python 3",
   "language": "python",
   "name": "python3"
  },
  "language_info": {
   "codemirror_mode": {
    "name": "ipython",
    "version": 3
   },
   "file_extension": ".py",
   "mimetype": "text/x-python",
   "name": "python",
   "nbconvert_exporter": "python",
   "pygments_lexer": "ipython3",
   "version": "3.8.5"
  }
 },
 "nbformat": 4,
 "nbformat_minor": 2
}
