{
 "cells": [
  {
   "cell_type": "markdown",
   "metadata": {},
   "source": [
    "<img style=\"float: left;;\" src='Figures/alinco.png' /></a>\n",
    "\n",
    "# <center> <font color= #000047> Actividad 3: Aprendizaje No supervizado Clustering\n",
    "    \n",
    "___"
   ]
  },
  {
   "cell_type": "markdown",
   "metadata": {},
   "source": [
    "<h1> Nombre: </h1>\n",
    "<hr>   "
   ]
  },
  {
   "cell_type": "markdown",
   "metadata": {},
   "source": [
    "\n",
    "**1.-Considere el archivo creditcard_sample.csv, realice lo siguiente:**\n",
    "\n",
    ">1.- Hacer un reporte de calidad de datos\n",
    "\n",
    ">2.- Limpieza de datos eliminar las columnas ['Time', 'Class'], y verificar si hay datos faltantes, si existen datos faltantes, rellenarlo con el promedio.\n",
    "\n",
    ">3.- Aplicar el algoritmo de clustering jerárquico a las variables restantes\n",
    "\n",
    ">4.- Para los criterios de aglomeración utilizar 3 criterios (ejemplo: ward, complete, single) visitar la documentación del método scipy.cluster.hierarchy\n",
    "\n",
    ">5.- Obtener el número de grupos óptimos mediante los criterios de selección de grupos (codo, gradiente, dendograma) y comentar sus resultados.\n",
    "\n",
    ">6.- Visualizar los datos y su clasificación (elegir 2 variables y graficar la agrupación)\n"
   ]
  },
  {
   "cell_type": "code",
   "execution_count": null,
   "metadata": {},
   "outputs": [],
   "source": []
  },
  {
   "cell_type": "markdown",
   "metadata": {},
   "source": [
    "**2.- Considere el dataset `twiter_analisis.csv` la actividad consiste en agrupar usuarios Twitter de acuerdo a su personalidad con K-means.**\n",
    "\n",
    ">1.- Obtener un data quality report dqr \n",
    "\n",
    ">2.- Limpieza de datos\n",
    "\n",
    ">3.- Analisis exploratorio de datos EDA (obtener al menos 3 insights)\n",
    "\n",
    ">4.- Aplicar algún criterio de selección de grupos \n",
    "\n",
    ">5.- Aplicar kmeans con el num opt de grupos.\n",
    "\n",
    ">6.- Graficar, concluir y comentar acerca de los resultados.\n",
    "\n",
    "El archivo contiene diferenciadas 9 categorías --actividades laborales-- que son:\n",
    "\n",
    "1-> Actor/actriz\n",
    "\n",
    "2->Cantante\n",
    "\n",
    "3->Modelo\n",
    "\n",
    "4->Tv, series\n",
    "\n",
    "5->Radio\n",
    "\n",
    "6->Tecnología\n",
    "\n",
    "7->Deportes\n",
    "\n",
    "8->Politica\n",
    "\n",
    "9->Escritor\n",
    "\n",
    "### Diccionario de datos\n",
    "\n",
    "> `usuario` (el nombre en Twitter)\n",
    "\n",
    "> `op` Openness to experience – grado de apertura mental a nuevas experiencias, curiosidad, arte\n",
    "\n",
    "> `co` Conscientiousness – grado de orden, prolijidad, organización\n",
    "\n",
    "> `ex`  Extraversion – grado de timidez, solitario o participación ante el grupo social\n",
    "\n",
    "> `ag`  Agreeableness – grado de empatía con los demás, temperamento\n",
    "\n",
    "> `ne`  Neuroticism, – grado de neuroticismo, nervioso, irritabilidad, seguridad en sí mismo.\n",
    "\n",
    "> `Wordcount` Cantidad promedio de palabras usadas en sus tweets\n",
    "\n",
    "> `Categoria` Actividad laboral del usuario (actor, cantante, etc.)\n"
   ]
  },
  {
   "cell_type": "code",
   "execution_count": 4,
   "metadata": {},
   "outputs": [],
   "source": [
    "import pandas as pd"
   ]
  },
  {
   "cell_type": "code",
   "execution_count": 5,
   "metadata": {},
   "outputs": [],
   "source": [
    "twitter = pd.read_csv('Data/twiter_analisis.csv')"
   ]
  },
  {
   "cell_type": "code",
   "execution_count": 6,
   "metadata": {},
   "outputs": [
    {
     "name": "stdout",
     "output_type": "stream",
     "text": [
      "<class 'pandas.core.frame.DataFrame'>\n",
      "RangeIndex: 140 entries, 0 to 139\n",
      "Data columns (total 8 columns):\n",
      " #   Column     Non-Null Count  Dtype  \n",
      "---  ------     --------------  -----  \n",
      " 0   usuario    140 non-null    object \n",
      " 1   op         140 non-null    float64\n",
      " 2   co         140 non-null    float64\n",
      " 3   ex         140 non-null    float64\n",
      " 4   ag         140 non-null    float64\n",
      " 5   ne         140 non-null    float64\n",
      " 6   wordcount  140 non-null    float64\n",
      " 7   categoria  140 non-null    int64  \n",
      "dtypes: float64(6), int64(1), object(1)\n",
      "memory usage: 8.9+ KB\n"
     ]
    }
   ],
   "source": [
    "twitter.info()"
   ]
  },
  {
   "cell_type": "markdown",
   "metadata": {},
   "source": [
    "\n",
    "<div class=\"alert alert-danger\" style=\"margin: 10px\"><strong>NOTA:</strong> Todas las figuras deben de estar comentadas o descritas.</div>\n"
   ]
  },
  {
   "cell_type": "code",
   "execution_count": null,
   "metadata": {},
   "outputs": [],
   "source": []
  }
 ],
 "metadata": {
  "kernelspec": {
   "display_name": "Python 3",
   "language": "python",
   "name": "python3"
  },
  "language_info": {
   "codemirror_mode": {
    "name": "ipython",
    "version": 3
   },
   "file_extension": ".py",
   "mimetype": "text/x-python",
   "name": "python",
   "nbconvert_exporter": "python",
   "pygments_lexer": "ipython3",
   "version": "3.8.5"
  }
 },
 "nbformat": 4,
 "nbformat_minor": 2
}
