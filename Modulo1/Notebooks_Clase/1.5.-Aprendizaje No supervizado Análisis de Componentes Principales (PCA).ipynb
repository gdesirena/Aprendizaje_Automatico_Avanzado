{
 "cells": [
  {
   "cell_type": "markdown",
   "metadata": {},
   "source": [
    "<img style=\"float: left;;\" src='Figures/alinco.png' /></a>\n",
    "\n",
    "# <center> <font color= #000047> Módulo 1: Aprendizaje No supervizado: PCA\n"
   ]
  },
  {
   "cell_type": "markdown",
   "metadata": {},
   "source": [
    "## Introducción\n"
   ]
  },
  {
   "cell_type": "markdown",
   "metadata": {},
   "source": [
    "\n",
    "El [PCA](https://es.wikipedia.org/wiki/An%C3%A1lisis_de_componentes_principales) es una herramientas ampliamente utilizada, por ejemplo, en el análisis de imágenes médicas para la [reducción de dimensionalidad](https://en.wikipedia.org/wiki/Dimensionality_reduction), la construcción de modelos, y la comprensión y exploración de datos. \n",
    "\n",
    "Tienen aplicaciones en prácticamente todas las áreas de la ciencia, **machine learning**, [procesamiento de imágenes](https://en.wikipedia.org/wiki/Image_processing), [ingeniería](https://es.wikipedia.org/wiki/Ingenier%C3%ADa), [genética](https://es.wikipedia.org/wiki/Gen%C3%A9tica), [computación cognitiva](https://en.wikipedia.org/wiki/Cognitive_computing), [química](https://es.wikipedia.org/wiki/Qu%C3%ADmica), [meteorología](https://es.wikipedia.org/wiki/Meteorolog%C3%ADa), y [redes neuronales](http://relopezbriega.github.io/tag/redes-neuronales.html), sólo por nombrar algunas; en dónde nos encontramos con grandes conjuntos de datos.\n",
    "\n",
    "El propósito del [análisis de componentes principales PCA](https://es.wikipedia.org/wiki/An%C3%A1lisis_de_componentes_principales) es derivar un número relativamente pequeño de combinaciones lineales no correlacionadas (componentes principales) de una conjunto de variables aleatorias de [media](https://es.wikipedia.org/wiki/Media_aritm%C3%A9tica) cero mientras que conserva la mayor cantidad de información de las variables originales como sea posible. Entre los objetivos del [PCA](https://es.wikipedia.org/wiki/An%C3%A1lisis_de_componentes_principales) podemos encontrar los siguientes:\n",
    "\n",
    "1. [Reducción de dimensionalidad](https://en.wikipedia.org/wiki/Dimensionality_reduction).\n",
    "2. Determinación de combinaciones lineales de variables.\n",
    "3. Selección de características o *features*: la elección de las variables más útiles.\n",
    "4. Visualización de datos multidimensionales.\n",
    "5. Identificación de las variables subyacentes.\n",
    "6. Identificación grupos de objetos o de [valores atípicos]\n"
   ]
  },
  {
   "cell_type": "markdown",
   "metadata": {},
   "source": [
    "### Algoritmo\n",
    "\n",
    "1.- Obtener la matriz de covarianza\n",
    "\n",
    "2.- Obtener los valores y vectores propios de la matriz covarianza\n",
    "\n",
    "3.- Realizar una transformación de datos del espacio original al espacion con una dimensión menor"
   ]
  },
  {
   "cell_type": "markdown",
   "metadata": {},
   "source": [
    "### 1.- Matriz de covarianza\n",
    "\n",
    "La matriz de covarianza se denota como $\\sigma$, el cual es una matriz de $d \\times d$ donde cada elemento representa la matriz de covarianza de dos features (variables). La covarianza de dos datos se calcula como sigue:\n",
    "\n",
    "$$\\sigma_{jk} = \\frac{1}{n-1}\\sum_{i=1}^{N}\\left(  x_{ij}-\\bar{x}_j \\right)  \\left( x_{ik}-\\bar{x}_k \\right).$$\n",
    "\n",
    "Podemos resumir el calculo de la matriz de covarianza de forma matricial como:\n",
    "$\\Sigma = \\frac{1}{n-1} \\left( (\\mathbf{X} - \\mathbf{\\bar{x}})^T\\;(\\mathbf{X} - \\mathbf{\\bar{x}}) \\right)$\n",
    "donde $\\mathbf{\\bar{x}}$ es el vector de medias $\\mathbf{\\bar{x}} = 1/n\\sum\\limits_{i=1}^n x_{i}.$\n",
    "El vector de medias es un vector de dimension $d$ donde cada valor en este vector representa la media de cada columna de datos en el dataset."
   ]
  },
  {
   "cell_type": "markdown",
   "metadata": {},
   "source": [
    "### 2.- Valores y Vectores Propios\n",
    "\n",
    "### Repaso:\n",
    "\n",
    "#### Valores propios\n",
    "$det(\\lambda I - A) = 0$\n",
    "\n",
    "Para encontrar los valores propios veamos un ejemplo:\n",
    "\n",
    "$$A=\\begin{bmatrix} 4 &  1\\\\ -6 & -3 \\end{bmatrix}$$\n",
    "\n",
    "$$ I=\\begin{bmatrix} 1 &  0\\\\ 0 & 1 \\end{bmatrix}$$\n",
    "$$\\lambda I - A= \\begin{bmatrix} \\lambda - 4 &  -1\\\\ 6 & \\lambda + 3 \\end{bmatrix} $$\n",
    "\n",
    "$$det(\\lambda I - A)= (\\lambda -4)(\\lambda + 3) + 6 = \\lambda^2 -\\lambda -12 + 6= \\lambda^2 - \\lambda - 6 = 0 $$\n",
    "\n",
    "$$ \\lambda_1 = 3$$\n",
    "$$ \\lambda_2 = -2$$"
   ]
  },
  {
   "cell_type": "markdown",
   "metadata": {},
   "source": [
    "#### Vectores propios\n",
    "\n",
    "$$ (\\lambda I - A)v = 0 $$\n",
    "\n",
    "$$v=\\begin{bmatrix} x_1\\\\ x_2 \\end{bmatrix}$$"
   ]
  },
  {
   "cell_type": "markdown",
   "metadata": {},
   "source": [
    "$$(\\lambda I - A)v = \\lambda I - A= \\begin{bmatrix} \\lambda - 4 &  -1\\\\ 6 & \\lambda + 3 \\end{bmatrix}\\begin{bmatrix} x_1\\\\ x_2 \\end{bmatrix}=$$\n",
    "\n",
    "$$\\begin{bmatrix} x_1(\\lambda - 4) -x2\\\\ 6x_1 + x_2(\\lambda + 3) \\end{bmatrix} = \\begin{bmatrix} x_1\\lambda - 4x_1 -x_2\\\\ 6x_1 + x_2\\lambda + 3x_2 \\end{bmatrix} = \\begin{bmatrix} 0\\\\ 0 \\end{bmatrix}$$\n",
    "\n",
    "a) $\\lambda_1 = 3$\n",
    "$$ (\\lambda_1 -4)x_1 - x_2 = 0$$\n",
    "$$ 6x_1 + (\\lambda_1 +3)x_2 = 0$$\n",
    "\n",
    "$$ -x_1 - x_2 = 0$$\n",
    "$$ 6x_1 + 6x_2 = 0$$\n",
    "\n",
    "$x_1 = -x_2$\n",
    "\n",
    "\n",
    "$$v=\\begin{bmatrix} -x_2\\\\ x_2 \\end{bmatrix}$$\n",
    "$$ x_2=1$$\n",
    "$$v=\\begin{bmatrix} -1\\\\ 1 \\end{bmatrix}$$\n",
    "\n",
    "b) $\\lambda_2 = -2$\n",
    "$$x_2=6$$\n",
    "$$v_2=\\begin{bmatrix} -1\\\\ 6 \\end{bmatrix}$$\n",
    "\n",
    "$$ Av = \\lambda v$$\n"
   ]
  },
  {
   "cell_type": "markdown",
   "metadata": {},
   "source": [
    "### Cuales son los vectores que expanden el espacio en $\\mathcal{R}^2$\n",
    "\n",
    "$$ x= \\alpha_1 w_1 + \\alpha_2 w_2$$\n",
    "\n",
    "$$ x = \\begin{bmatrix} -1\\\\ 6 \\end{bmatrix}$$\n",
    "\n",
    "$$ w_1 = \\begin{bmatrix} 1\\\\ 0 \\end{bmatrix}$$\n",
    "\n",
    "$$ w_2 = \\begin{bmatrix} 0\\\\ 1 \\end{bmatrix}$$\n",
    "\n",
    "$$ x= -1w_1 + 6w_2$$\n",
    "\n",
    "$$ x_2 = \\begin{bmatrix} 4\\\\ 8 \\end{bmatrix}$$\n",
    "\n",
    "$$ x= 4w_1 + 8w_2$$\n",
    "\n",
    "Ahora en $\\mathcal{R}^3$ \n",
    "\n",
    "$$ w_1 = \\begin{bmatrix} 1\\\\ 0 \\\\ 0 \\end{bmatrix}$$\n",
    "\n",
    "$$ w_2 = \\begin{bmatrix} 0\\\\ 1 \\\\ 0\\end{bmatrix}$$\n",
    "\n",
    "$$ w_3 = \\begin{bmatrix} 0\\\\ 0 \\\\ 1\\end{bmatrix}$$\n",
    "\n"
   ]
  },
  {
   "cell_type": "markdown",
   "metadata": {},
   "source": [
    "### 3.- Transformación de espacios\n",
    "\n",
    "#### Matriz de transformación\n",
    "\n",
    "$T =[w_1 w_2 w_3]$\n",
    "\n",
    "$$ I=\\begin{bmatrix} 1 &  0 & 0\\\\ 0 &  1 & 0\\\\ 0 & 0 & 1 \\end{bmatrix}$$\n",
    "\n",
    "$$A * T_2 = \\bar{A}$$\n",
    "\n",
    "\n",
    "$$ T_2 \\in \\mathcal{R}^{3x2}$$\n",
    "\n",
    "Si se requiere una transformación de espacios $\\mathcal{R}^3 -> \\mathcal{R}^2$\n",
    "\n",
    "$$A=\\begin{bmatrix} 4 &  1 & 5\\\\ -6 & -3 & 3\\\\ 1 & 2 & 1\\end{bmatrix}$$\n",
    "\n",
    "\n",
    "$$w_1 = \n",
    "\\begin{bmatrix} 1 \\\\ 0 \\\\ 0\\end{bmatrix}$$\n",
    "\n",
    "$$w_2 = \n",
    "\\begin{bmatrix} 0 \\\\ 1 \\\\ 0\\end{bmatrix}$$\n",
    "\n",
    "$$w_3 = \n",
    "\\begin{bmatrix} 0 \\\\ 0 \\\\ 1\\end{bmatrix}$$\n",
    "\n",
    "$T =[w_1 w_2]$\n",
    "\n",
    "$$T=\\begin{bmatrix} 1  & 0\\\\ 0 & 1\\\\ 0 & 0 \\end{bmatrix} \\in \\mathcal{R}^{3x2} $$\n",
    "\n",
    "$$ A*T = ?$$\n",
    "\n",
    "$$\\bar{A}=\\begin{bmatrix} 4 &  1 \\\\ -6 & -3\\\\ 0 & 0 \\end{bmatrix}$$\n",
    "\n",
    "$T=[v_1, v_2, ...,v_n]$\n",
    "\n",
    "$T=[v_1, v_2,v_3]$\n",
    "\n",
    "$A_{new} = A*T$\n",
    "\n",
    "$A = A_{new} T^{-1}$\n",
    "\n",
    "$A = A_{new} T^{T}$\n",
    "\n"
   ]
  },
  {
   "cell_type": "markdown",
   "metadata": {},
   "source": [
    "### Resumen de PCA\n",
    "\n",
    "- Estandarizar los datos\n",
    "- Obtener la matriz de covarianzas\n",
    "- Obtener los valores y vectores propios de la matriz de covarianzas\n",
    "- Ordenar los valores y vectores propios de manera descendente y escoger los k vectores propios que corresponden a los k valores propios más grandes donde k es la dimesion del nuevo espacio \n",
    "- Contruir la matriz de transformación $T$\n",
    "- Realizar la transformación del conjunto de datos $X$ con $T$ para obtener un conjunto de datos $X_{new}$ en un espacio con menor dimensión\n",
    "\n",
    "#### ¿Por qué PCA es útil en el aprendizaje automático?, aquí está la lista de los 3 beneficios principales:\n",
    "\n",
    "- Reduce el tiempo de entrenamiento, debido a un conjunto de datos más pequeño.\n",
    "\n",
    "- Elimina el ruido, manteniendo solo lo relevante.\n",
    "\n",
    "- Hace posible la visualización, en los casos en los que se tiene un máximo de 3 componentes principales.\n"
   ]
  },
  {
   "cell_type": "markdown",
   "metadata": {},
   "source": [
    "## Ejemplo 1:\n",
    "\n"
   ]
  },
  {
   "cell_type": "code",
   "execution_count": 1,
   "metadata": {},
   "outputs": [],
   "source": [
    "import numpy as np\n",
    "import matplotlib.pyplot as plt\n",
    "import pandas as pd"
   ]
  },
  {
   "cell_type": "code",
   "execution_count": 3,
   "metadata": {},
   "outputs": [
    {
     "data": {
      "text/plain": [
       "array([[2.5, 2.4],\n",
       "       [0.5, 0.6],\n",
       "       [3. , 3.1],\n",
       "       [2.5, 2.2],\n",
       "       [1.5, 1.2],\n",
       "       [0.2, 0.4],\n",
       "       [4.5, 4.7],\n",
       "       [1.7, 1.2],\n",
       "       [3.7, 3.8],\n",
       "       [2.1, 1.9]])"
      ]
     },
     "execution_count": 3,
     "metadata": {},
     "output_type": "execute_result"
    }
   ],
   "source": [
    "data = np.array([[2.5,2.4],\n",
    "                [0.5,0.6],\n",
    "                [3.0,3.1],\n",
    "                [2.5,2.2],\n",
    "                [1.5,1.2],\n",
    "                [0.2,0.4],\n",
    "                [4.5,4.7],\n",
    "                [1.7,1.2],\n",
    "                [3.7,3.8],\n",
    "                [2.1,1.9]])\n",
    "data"
   ]
  },
  {
   "cell_type": "code",
   "execution_count": 4,
   "metadata": {},
   "outputs": [
    {
     "data": {
      "image/png": "[encoded data removed]",
      "text/plain": [
       "<Figure size 432x288 with 1 Axes>"
      ]
     },
     "metadata": {
      "needs_background": "light"
     },
     "output_type": "display_data"
    }
   ],
   "source": [
    "plt.figure(figsize=(6,4))\n",
    "plt.scatter(data[:,0],data[:,1])\n",
    "plt.grid()\n",
    "plt.show()"
   ]
  },
  {
   "cell_type": "markdown",
   "metadata": {},
   "source": [
    "### 1.- Estandarizar los datos\n",
    "\n",
    "$$z = \\frac{x -\\bar{x}}{\\sigma}$$"
   ]
  },
  {
   "cell_type": "code",
   "execution_count": 6,
   "metadata": {},
   "outputs": [],
   "source": [
    "medias = data.mean(axis=0)\n",
    "varian = data.std(axis=0)\n",
    "data_std = (data - medias)/varian"
   ]
  },
  {
   "cell_type": "code",
   "execution_count": 7,
   "metadata": {},
   "outputs": [
    {
     "data": {
      "image/png": "[encoded data removed]",
      "text/plain": [
       "<Figure size 432x288 with 1 Axes>"
      ]
     },
     "metadata": {
      "needs_background": "light"
     },
     "output_type": "display_data"
    }
   ],
   "source": [
    "plt.figure(figsize=(6,4))\n",
    "plt.scatter(data_std[:,0],data_std[:,1])\n",
    "plt.grid()\n",
    "plt.show()"
   ]
  },
  {
   "cell_type": "markdown",
   "metadata": {},
   "source": [
    "### 2.-  Obtener la matriz de covarianzas"
   ]
  },
  {
   "cell_type": "code",
   "execution_count": 8,
   "metadata": {},
   "outputs": [
    {
     "data": {
      "text/plain": [
       "array([[1.11111111, 1.09431773],\n",
       "       [1.09431773, 1.11111111]])"
      ]
     },
     "execution_count": 8,
     "metadata": {},
     "output_type": "execute_result"
    }
   ],
   "source": [
    "data_cov = np.cov(data_std.transpose())\n",
    "data_cov"
   ]
  },
  {
   "cell_type": "markdown",
   "metadata": {},
   "source": [
    "### 3.- Obtener los valores y vectores propios de la matriz de covarianzas"
   ]
  },
  {
   "cell_type": "code",
   "execution_count": 9,
   "metadata": {},
   "outputs": [
    {
     "data": {
      "text/plain": [
       "(array([2.20542884, 0.01679338]),\n",
       " array([[ 0.70710678, -0.70710678],\n",
       "        [ 0.70710678,  0.70710678]]))"
      ]
     },
     "execution_count": 9,
     "metadata": {},
     "output_type": "execute_result"
    }
   ],
   "source": [
    "np.linalg.eig(data_cov)"
   ]
  },
  {
   "cell_type": "code",
   "execution_count": 10,
   "metadata": {},
   "outputs": [],
   "source": [
    "w, v = np.linalg.eig(data_cov)"
   ]
  },
  {
   "cell_type": "code",
   "execution_count": 11,
   "metadata": {},
   "outputs": [
    {
     "data": {
      "text/plain": [
       "array([2.20542884, 0.01679338])"
      ]
     },
     "execution_count": 11,
     "metadata": {},
     "output_type": "execute_result"
    }
   ],
   "source": [
    "w"
   ]
  },
  {
   "cell_type": "code",
   "execution_count": 12,
   "metadata": {},
   "outputs": [
    {
     "data": {
      "text/plain": [
       "array([[ 0.70710678, -0.70710678],\n",
       "       [ 0.70710678,  0.70710678]])"
      ]
     },
     "execution_count": 12,
     "metadata": {},
     "output_type": "execute_result"
    }
   ],
   "source": [
    "v"
   ]
  },
  {
   "cell_type": "code",
   "execution_count": 13,
   "metadata": {},
   "outputs": [
    {
     "data": {
      "image/png": "[encoded data removed]",
      "text/plain": [
       "<Figure size 432x288 with 1 Axes>"
      ]
     },
     "metadata": {
      "needs_background": "light"
     },
     "output_type": "display_data"
    }
   ],
   "source": [
    "x = np.arange(-2,2,0.1)\n",
    "plt.figure(figsize=(6,4))\n",
    "plt.scatter(data_std[:,0],data_std[:,1])\n",
    "plt.plot(x, (v[1,0]/v[0,0])*x, 'b--')\n",
    "plt.plot(x, (v[1,1]/v[0,1])*x, 'g--')\n",
    "plt.grid()\n",
    "plt.show()"
   ]
  },
  {
   "cell_type": "code",
   "execution_count": 14,
   "metadata": {},
   "outputs": [
    {
     "data": {
      "text/plain": [
       "array([2.20542884, 0.01679338])"
      ]
     },
     "execution_count": 14,
     "metadata": {},
     "output_type": "execute_result"
    }
   ],
   "source": [
    "w"
   ]
  },
  {
   "cell_type": "code",
   "execution_count": 15,
   "metadata": {},
   "outputs": [
    {
     "data": {
      "text/plain": [
       "array([0.99244298, 0.00755702])"
      ]
     },
     "execution_count": 15,
     "metadata": {},
     "output_type": "execute_result"
    }
   ],
   "source": [
    "w/w.sum()"
   ]
  },
  {
   "cell_type": "markdown",
   "metadata": {},
   "source": [
    "### 4.- Ordenar los vectores propios y valores propios y obtener la matriz de tansformación"
   ]
  },
  {
   "cell_type": "code",
   "execution_count": 16,
   "metadata": {},
   "outputs": [
    {
     "data": {
      "text/plain": [
       "array([[ 0.70710678, -0.70710678],\n",
       "       [ 0.70710678,  0.70710678]])"
      ]
     },
     "execution_count": 16,
     "metadata": {},
     "output_type": "execute_result"
    }
   ],
   "source": [
    "M_trans = v\n",
    "M_trans"
   ]
  },
  {
   "cell_type": "code",
   "execution_count": 20,
   "metadata": {},
   "outputs": [
    {
     "data": {
      "text/plain": [
       "matrix([[ 0.2900796 , -0.02300906],\n",
       "        [-1.78954813,  0.13371075],\n",
       "        [ 0.94352181,  0.07134627],\n",
       "        [ 0.18325138, -0.12983727],\n",
       "        [-0.90997659, -0.10489148],\n",
       "        [-2.06410242,  0.1946086 ],\n",
       "        [ 2.63677788,  0.08734168],\n",
       "        [-0.79815922, -0.21670886],\n",
       "        [ 1.70878139,  0.05388421],\n",
       "        [-0.2006257 , -0.06644485]])"
      ]
     },
     "execution_count": 20,
     "metadata": {},
     "output_type": "execute_result"
    }
   ],
   "source": [
    "np.matrix(data_std)*np.matrix(M_trans)"
   ]
  },
  {
   "cell_type": "code",
   "execution_count": 19,
   "metadata": {},
   "outputs": [
    {
     "data": {
      "text/plain": [
       "array([[ 0.2900796 , -0.02300906],\n",
       "       [-1.78954813,  0.13371075],\n",
       "       [ 0.94352181,  0.07134627],\n",
       "       [ 0.18325138, -0.12983727],\n",
       "       [-0.90997659, -0.10489148],\n",
       "       [-2.06410242,  0.1946086 ],\n",
       "       [ 2.63677788,  0.08734168],\n",
       "       [-0.79815922, -0.21670886],\n",
       "       [ 1.70878139,  0.05388421],\n",
       "       [-0.2006257 , -0.06644485]])"
      ]
     },
     "execution_count": 19,
     "metadata": {},
     "output_type": "execute_result"
    }
   ],
   "source": [
    "data_new = np.array(np.matrix(data_std)*np.matrix(M_trans))\n",
    "data_new"
   ]
  },
  {
   "cell_type": "code",
   "execution_count": 22,
   "metadata": {},
   "outputs": [
    {
     "data": {
      "image/png": "[encoded data removed]",
      "text/plain": [
       "<Figure size 432x288 with 1 Axes>"
      ]
     },
     "metadata": {
      "needs_background": "light"
     },
     "output_type": "display_data"
    }
   ],
   "source": [
    "x = np.arange(-2,2,0.1)\n",
    "plt.figure(figsize=(6,4))\n",
    "plt.scatter(data_new[:,0],data_new[:,1])\n",
    "plt.hlines(0,-3,3, 'b')\n",
    "plt.vlines(0,-3,3, 'g')\n",
    "plt.grid()\n",
    "plt.show()"
   ]
  },
  {
   "cell_type": "code",
   "execution_count": null,
   "metadata": {},
   "outputs": [],
   "source": []
  },
  {
   "cell_type": "markdown",
   "metadata": {},
   "source": [
    "### 5.- Reduciendo la dimension de los datos"
   ]
  },
  {
   "cell_type": "code",
   "execution_count": 23,
   "metadata": {},
   "outputs": [
    {
     "data": {
      "text/plain": [
       "array([[ 0.70710678, -0.70710678],\n",
       "       [ 0.70710678,  0.70710678]])"
      ]
     },
     "execution_count": 23,
     "metadata": {},
     "output_type": "execute_result"
    }
   ],
   "source": [
    "v"
   ]
  },
  {
   "cell_type": "code",
   "execution_count": 24,
   "metadata": {},
   "outputs": [
    {
     "data": {
      "text/plain": [
       "array([[0.70710678],\n",
       "       [0.70710678]])"
      ]
     },
     "execution_count": 24,
     "metadata": {},
     "output_type": "execute_result"
    }
   ],
   "source": [
    "componente = w[0]\n",
    "M_trans = np.reshape(v[:,0], [2,1])\n",
    "M_trans\n"
   ]
  },
  {
   "cell_type": "code",
   "execution_count": 25,
   "metadata": {},
   "outputs": [
    {
     "data": {
      "text/plain": [
       "array([[ 0.2900796 ],\n",
       "       [-1.78954813],\n",
       "       [ 0.94352181],\n",
       "       [ 0.18325138],\n",
       "       [-0.90997659],\n",
       "       [-2.06410242],\n",
       "       [ 2.63677788],\n",
       "       [-0.79815922],\n",
       "       [ 1.70878139],\n",
       "       [-0.2006257 ]])"
      ]
     },
     "execution_count": 25,
     "metadata": {},
     "output_type": "execute_result"
    }
   ],
   "source": [
    "data_new = np.array(np.matrix(data_std)*np.matrix(M_trans))\n",
    "data_new"
   ]
  },
  {
   "cell_type": "markdown",
   "metadata": {},
   "source": [
    "### Recuperar la información"
   ]
  },
  {
   "cell_type": "markdown",
   "metadata": {},
   "source": [
    "$$data_{new} = data_{std}*M_{trans}$$\n",
    "\n",
    "$$data_{new}*M_{trans}^{-1} = data_{std}*M_{trans}*M_{trans}^{-1} $$\n",
    "\n",
    "$$data_{new}*M_{trans}^{-1} = data_{std} $$\n",
    "\n",
    "$$data_{new}*M_{trans}^{-1} = (data - medias)/varian $$\n",
    "\n",
    "$$data_{new}*M_{trans}^{-1}*varian + medias = data$$"
   ]
  },
  {
   "cell_type": "code",
   "execution_count": 26,
   "metadata": {},
   "outputs": [
    {
     "data": {
      "text/plain": [
       "array([[2.47942265, 2.42153837],\n",
       "       [0.61957958, 0.47483574],\n",
       "       [3.06380606, 3.03321403],\n",
       "       [2.38388453, 2.32153837],\n",
       "       [1.40619394, 1.29818705],\n",
       "       [0.37404146, 0.21783034],\n",
       "       [4.57811101, 4.618241  ],\n",
       "       [1.50619394, 1.40285732],\n",
       "       [3.74818948, 3.74955995],\n",
       "       [2.04057735, 1.96219784]])"
      ]
     },
     "execution_count": 26,
     "metadata": {},
     "output_type": "execute_result"
    }
   ],
   "source": [
    "data_std_r = np.array(np.matrix(data_new)*np.matrix(M_trans.transpose()))\n",
    "data_r = data_std_r*varian + medias\n",
    "data_r\n",
    "        "
   ]
  },
  {
   "cell_type": "code",
   "execution_count": 27,
   "metadata": {},
   "outputs": [
    {
     "data": {
      "text/plain": [
       "array([[2.5, 2.4],\n",
       "       [0.5, 0.6],\n",
       "       [3. , 3.1],\n",
       "       [2.5, 2.2],\n",
       "       [1.5, 1.2],\n",
       "       [0.2, 0.4],\n",
       "       [4.5, 4.7],\n",
       "       [1.7, 1.2],\n",
       "       [3.7, 3.8],\n",
       "       [2.1, 1.9]])"
      ]
     },
     "execution_count": 27,
     "metadata": {},
     "output_type": "execute_result"
    }
   ],
   "source": [
    "data"
   ]
  },
  {
   "cell_type": "code",
   "execution_count": 30,
   "metadata": {},
   "outputs": [
    {
     "data": {
      "image/png": "[encoded data removed]",
      "text/plain": [
       "<Figure size 432x288 with 1 Axes>"
      ]
     },
     "metadata": {
      "needs_background": "light"
     },
     "output_type": "display_data"
    }
   ],
   "source": [
    "plt.figure(figsize=(6,4))\n",
    "plt.scatter(data_std_r[:,0],data_std_r[:,1],c='r')\n",
    "plt.scatter(data_std[:,0],data_std[:,1],c='g')\n",
    "plt.plot(x, (v[1,0]/v[0,0])*x, 'b--')\n",
    "plt.plot(x, (v[1,1]/v[0,1])*x, 'g--')\n",
    "plt.grid()\n",
    "plt.show()"
   ]
  },
  {
   "cell_type": "markdown",
   "metadata": {},
   "source": [
    "###  PCA utilizando librerías"
   ]
  },
  {
   "cell_type": "code",
   "execution_count": 35,
   "metadata": {},
   "outputs": [
    {
     "data": {
      "text/plain": [
       "array([[ 0.22138711,  0.18884739],\n",
       "       [-1.3599494 , -1.17085384],\n",
       "       [ 0.61672124,  0.7176201 ],\n",
       "       [ 0.22138711,  0.03776948],\n",
       "       [-0.56928114, -0.7176201 ],\n",
       "       [-1.59714987, -1.32193176],\n",
       "       [ 1.80272362,  1.92624342],\n",
       "       [-0.41114749, -0.7176201 ],\n",
       "       [ 1.17018902,  1.2463928 ],\n",
       "       [-0.09488019, -0.18884739]])"
      ]
     },
     "execution_count": 35,
     "metadata": {},
     "output_type": "execute_result"
    }
   ],
   "source": [
    "data_std"
   ]
  },
  {
   "cell_type": "code",
   "execution_count": 32,
   "metadata": {},
   "outputs": [],
   "source": [
    "from sklearn.decomposition import PCA"
   ]
  },
  {
   "cell_type": "code",
   "execution_count": 33,
   "metadata": {},
   "outputs": [
    {
     "data": {
      "text/plain": [
       "array([[ 0.2900796 ],\n",
       "       [-1.78954813],\n",
       "       [ 0.94352181],\n",
       "       [ 0.18325138],\n",
       "       [-0.90997659],\n",
       "       [-2.06410242],\n",
       "       [ 2.63677788],\n",
       "       [-0.79815922],\n",
       "       [ 1.70878139],\n",
       "       [-0.2006257 ]])"
      ]
     },
     "execution_count": 33,
     "metadata": {},
     "output_type": "execute_result"
    }
   ],
   "source": [
    "pca = PCA(n_components=1)\n",
    "pca.fit(data_std)\n",
    "data_new_pca = pca.transform(data_std)\n",
    "data_new_pca"
   ]
  },
  {
   "cell_type": "code",
   "execution_count": 34,
   "metadata": {},
   "outputs": [
    {
     "data": {
      "text/plain": [
       "array([[ 0.2900796 ],\n",
       "       [-1.78954813],\n",
       "       [ 0.94352181],\n",
       "       [ 0.18325138],\n",
       "       [-0.90997659],\n",
       "       [-2.06410242],\n",
       "       [ 2.63677788],\n",
       "       [-0.79815922],\n",
       "       [ 1.70878139],\n",
       "       [-0.2006257 ]])"
      ]
     },
     "execution_count": 34,
     "metadata": {},
     "output_type": "execute_result"
    }
   ],
   "source": [
    "data_new"
   ]
  },
  {
   "cell_type": "code",
   "execution_count": 40,
   "metadata": {},
   "outputs": [
    {
     "data": {
      "text/plain": [
       "array([0.99244298])"
      ]
     },
     "execution_count": 40,
     "metadata": {},
     "output_type": "execute_result"
    }
   ],
   "source": [
    "pca.explained_variance_ratio_"
   ]
  },
  {
   "cell_type": "markdown",
   "metadata": {},
   "source": [
    "### Ejemplo 2"
   ]
  },
  {
   "cell_type": "code",
   "execution_count": 37,
   "metadata": {},
   "outputs": [],
   "source": [
    "data = pd.read_csv('Data/compra_alquilar.csv')"
   ]
  },
  {
   "cell_type": "code",
   "execution_count": 38,
   "metadata": {},
   "outputs": [
    {
     "name": "stdout",
     "output_type": "stream",
     "text": [
      "<class 'pandas.core.frame.DataFrame'>\n",
      "RangeIndex: 202 entries, 0 to 201\n",
      "Data columns (total 10 columns):\n",
      " #   Column          Non-Null Count  Dtype\n",
      "---  ------          --------------  -----\n",
      " 0   ingresos        202 non-null    int64\n",
      " 1   gastos_comunes  202 non-null    int64\n",
      " 2   pago_coche      202 non-null    int64\n",
      " 3   gastos_otros    202 non-null    int64\n",
      " 4   ahorros         202 non-null    int64\n",
      " 5   vivienda        202 non-null    int64\n",
      " 6   estado_civil    202 non-null    int64\n",
      " 7   hijos           202 non-null    int64\n",
      " 8   trabajo         202 non-null    int64\n",
      " 9   comprar         202 non-null    int64\n",
      "dtypes: int64(10)\n",
      "memory usage: 15.9 KB\n"
     ]
    }
   ],
   "source": [
    "data.info()"
   ]
  },
  {
   "cell_type": "code",
   "execution_count": 39,
   "metadata": {},
   "outputs": [
    {
     "data": {
      "text/html": [
       "<div>\n",
       "<style scoped>\n",
       "    .dataframe tbody tr th:only-of-type {\n",
       "        vertical-align: middle;\n",
       "    }\n",
       "\n",
       "    .dataframe tbody tr th {\n",
       "        vertical-align: top;\n",
       "    }\n",
       "\n",
       "    .dataframe thead th {\n",
       "        text-align: right;\n",
       "    }\n",
       "</style>\n",
       "<table border=\"1\" class=\"dataframe\">\n",
       "  <thead>\n",
       "    <tr style=\"text-align: right;\">\n",
       "      <th></th>\n",
       "      <th>ingresos</th>\n",
       "      <th>gastos_comunes</th>\n",
       "      <th>pago_coche</th>\n",
       "      <th>gastos_otros</th>\n",
       "      <th>ahorros</th>\n",
       "      <th>vivienda</th>\n",
       "      <th>estado_civil</th>\n",
       "      <th>hijos</th>\n",
       "      <th>trabajo</th>\n",
       "      <th>comprar</th>\n",
       "    </tr>\n",
       "  </thead>\n",
       "  <tbody>\n",
       "    <tr>\n",
       "      <th>0</th>\n",
       "      <td>6000</td>\n",
       "      <td>1000</td>\n",
       "      <td>0</td>\n",
       "      <td>600</td>\n",
       "      <td>50000</td>\n",
       "      <td>400000</td>\n",
       "      <td>0</td>\n",
       "      <td>2</td>\n",
       "      <td>2</td>\n",
       "      <td>1</td>\n",
       "    </tr>\n",
       "    <tr>\n",
       "      <th>1</th>\n",
       "      <td>6745</td>\n",
       "      <td>944</td>\n",
       "      <td>123</td>\n",
       "      <td>429</td>\n",
       "      <td>43240</td>\n",
       "      <td>636897</td>\n",
       "      <td>1</td>\n",
       "      <td>3</td>\n",
       "      <td>6</td>\n",
       "      <td>0</td>\n",
       "    </tr>\n",
       "    <tr>\n",
       "      <th>2</th>\n",
       "      <td>6455</td>\n",
       "      <td>1033</td>\n",
       "      <td>98</td>\n",
       "      <td>795</td>\n",
       "      <td>57463</td>\n",
       "      <td>321779</td>\n",
       "      <td>2</td>\n",
       "      <td>1</td>\n",
       "      <td>8</td>\n",
       "      <td>1</td>\n",
       "    </tr>\n",
       "    <tr>\n",
       "      <th>3</th>\n",
       "      <td>7098</td>\n",
       "      <td>1278</td>\n",
       "      <td>15</td>\n",
       "      <td>254</td>\n",
       "      <td>54506</td>\n",
       "      <td>660933</td>\n",
       "      <td>0</td>\n",
       "      <td>0</td>\n",
       "      <td>3</td>\n",
       "      <td>0</td>\n",
       "    </tr>\n",
       "    <tr>\n",
       "      <th>4</th>\n",
       "      <td>6167</td>\n",
       "      <td>863</td>\n",
       "      <td>223</td>\n",
       "      <td>520</td>\n",
       "      <td>41512</td>\n",
       "      <td>348932</td>\n",
       "      <td>0</td>\n",
       "      <td>0</td>\n",
       "      <td>3</td>\n",
       "      <td>1</td>\n",
       "    </tr>\n",
       "  </tbody>\n",
       "</table>\n",
       "</div>"
      ],
      "text/plain": [
       "   ingresos  gastos_comunes  pago_coche  gastos_otros  ahorros  vivienda  \\\n",
       "0      6000            1000           0           600    50000    400000   \n",
       "1      6745             944         123           429    43240    636897   \n",
       "2      6455            1033          98           795    57463    321779   \n",
       "3      7098            1278          15           254    54506    660933   \n",
       "4      6167             863         223           520    41512    348932   \n",
       "\n",
       "   estado_civil  hijos  trabajo  comprar  \n",
       "0             0      2        2        1  \n",
       "1             1      3        6        0  \n",
       "2             2      1        8        1  \n",
       "3             0      0        3        0  \n",
       "4             0      0        3        1  "
      ]
     },
     "execution_count": 39,
     "metadata": {},
     "output_type": "execute_result"
    }
   ],
   "source": [
    "data.head()"
   ]
  },
  {
   "cell_type": "code",
   "execution_count": 41,
   "metadata": {},
   "outputs": [],
   "source": [
    "from sklearn.preprocessing import StandardScaler"
   ]
  },
  {
   "cell_type": "code",
   "execution_count": 42,
   "metadata": {},
   "outputs": [
    {
     "data": {
      "text/plain": [
       "array([[ 0.62012866,  0.10468863, -1.69895439, ...,  0.5623736 ,\n",
       "        -0.98441983,  1.41948067],\n",
       "       [ 1.0639266 , -0.10162457, -0.71204191, ...,  1.29527339,\n",
       "         0.59691461, -0.704483  ],\n",
       "       [ 0.89117304,  0.22626604, -0.91263388, ..., -0.17052619,\n",
       "         1.38758182,  1.41948067],\n",
       "       ...,\n",
       "       [-1.05736798, -0.06109876,  0.51558094, ...,  1.29527339,\n",
       "         1.38758182, -0.704483  ],\n",
       "       [-0.96801269, -0.38530521,  1.26178306, ...,  0.5623736 ,\n",
       "         0.201581  , -0.704483  ],\n",
       "       [-0.57842363,  0.68310241, -0.85646812, ..., -0.90342598,\n",
       "        -0.19375261, -0.704483  ]])"
      ]
     },
     "execution_count": 42,
     "metadata": {},
     "output_type": "execute_result"
    }
   ],
   "source": [
    "# estandarizar\n",
    "scaler = StandardScaler()\n",
    "scaler.fit(data)\n",
    "data_std = scaler.transform(data)\n",
    "data_std"
   ]
  },
  {
   "cell_type": "code",
   "execution_count": 43,
   "metadata": {},
   "outputs": [
    {
     "data": {
      "text/plain": [
       "array([[-1.53544892,  0.06815874, -0.54556538, ..., -0.87854106,\n",
       "         0.27209966, -0.19917929],\n",
       "       [-1.28214439,  0.82390878,  1.23364473, ..., -0.0976677 ,\n",
       "         0.79840139,  0.32081897],\n",
       "       [-0.77988995,  2.17640112,  0.43836476, ...,  0.87655408,\n",
       "        -0.23848646,  0.2007495 ],\n",
       "       ...,\n",
       "       [ 1.38466338,  0.9133657 ,  1.33687385, ...,  0.49239998,\n",
       "        -0.31952406, -0.44503179],\n",
       "       [ 1.71813388, -0.30302155,  0.97607907, ..., -0.12549859,\n",
       "         0.3762544 , -0.34112633],\n",
       "       [ 0.79164878, -1.55613142, -1.62473018, ...,  0.6697576 ,\n",
       "         0.27712514,  0.29708044]])"
      ]
     },
     "execution_count": 43,
     "metadata": {},
     "output_type": "execute_result"
    }
   ],
   "source": [
    "pca = PCA(n_components=10)\n",
    "pca.fit(data_std)\n",
    "data_new_pca = pca.transform(data_std)\n",
    "data_new_pca"
   ]
  },
  {
   "cell_type": "code",
   "execution_count": 44,
   "metadata": {},
   "outputs": [
    {
     "data": {
      "text/plain": [
       "array([0.27368381, 0.23958688, 0.10991099, 0.10411098, 0.09105662,\n",
       "       0.07352523, 0.0457761 , 0.02745036, 0.02469122, 0.01020781])"
      ]
     },
     "execution_count": 44,
     "metadata": {},
     "output_type": "execute_result"
    }
   ],
   "source": [
    "pca.explained_variance_ratio_"
   ]
  },
  {
   "cell_type": "code",
   "execution_count": 46,
   "metadata": {},
   "outputs": [
    {
     "data": {
      "text/plain": [
       "Text(0, 0.5, '% de información')"
      ]
     },
     "execution_count": 46,
     "metadata": {},
     "output_type": "execute_result"
    },
    {
     "data": {
      "image/png": "[encoded data removed]",
      "text/plain": [
       "<Figure size 432x288 with 1 Axes>"
      ]
     },
     "metadata": {
      "needs_background": "light"
     },
     "output_type": "display_data"
    }
   ],
   "source": [
    "plt.plot(np.cumsum(pca.explained_variance_ratio_))\n",
    "plt.axhline(y=0.95,color='r', linestyle='-')\n",
    "plt.xlabel('Número de componentes principales')\n",
    "plt.ylabel('% de información')"
   ]
  },
  {
   "cell_type": "code",
   "execution_count": 51,
   "metadata": {},
   "outputs": [
    {
     "data": {
      "text/plain": [
       "array([[-1.53544892,  0.06815874, -0.54556538, ..., -0.34884301,\n",
       "        -0.51070808, -0.87854106],\n",
       "       [-1.28214439,  0.82390878,  1.23364473, ...,  0.83594184,\n",
       "        -1.23425325, -0.0976677 ],\n",
       "       [-0.77988995,  2.17640112,  0.43836476, ..., -0.27016437,\n",
       "         1.42040205,  0.87655408],\n",
       "       ...,\n",
       "       [ 1.38466338,  0.9133657 ,  1.33687385, ...,  0.22149711,\n",
       "        -1.091991  ,  0.49239998],\n",
       "       [ 1.71813388, -0.30302155,  0.97607907, ..., -0.09261274,\n",
       "        -0.49034077, -0.12549859],\n",
       "       [ 0.79164878, -1.55613142, -1.62473018, ...,  1.11502707,\n",
       "        -0.66552137,  0.6697576 ]])"
      ]
     },
     "execution_count": 51,
     "metadata": {},
     "output_type": "execute_result"
    }
   ],
   "source": [
    "pca = PCA(n_components=8)\n",
    "pca.fit(data_std)\n",
    "data_new_pca =  pca.transform(data_std)\n",
    "data_new_pca"
   ]
  },
  {
   "cell_type": "code",
   "execution_count": 52,
   "metadata": {},
   "outputs": [
    {
     "data": {
      "text/plain": [
       "0.965100967105961"
      ]
     },
     "execution_count": 52,
     "metadata": {},
     "output_type": "execute_result"
    }
   ],
   "source": [
    "np.sum(pca.explained_variance_ratio_)"
   ]
  },
  {
   "cell_type": "code",
   "execution_count": null,
   "metadata": {},
   "outputs": [],
   "source": []
  }
 ],
 "metadata": {
  "kernelspec": {
   "display_name": "Python 3",
   "language": "python",
   "name": "python3"
  },
  "language_info": {
   "codemirror_mode": {
    "name": "ipython",
    "version": 3
   },
   "file_extension": ".py",
   "mimetype": "text/x-python",
   "name": "python",
   "nbconvert_exporter": "python",
   "pygments_lexer": "ipython3",
   "version": "3.8.5"
  }
 },
 "nbformat": 4,
 "nbformat_minor": 4
}
